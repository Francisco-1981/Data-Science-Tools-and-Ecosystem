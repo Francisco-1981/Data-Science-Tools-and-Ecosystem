{
 "cells": [
  {
   "cell_type": "markdown",
   "id": "ff586a99-3a03-4afb-a398-4293e176240a",
   "metadata": {
    "tags": []
   },
   "source": [
    "# Data Science Tools and Ecosystem"
   ]
  },
  {
   "cell_type": "markdown",
   "id": "d64f1080-058b-4e50-9409-7ca590dc0e65",
   "metadata": {},
   "source": [
    "In this notebook, Data Science Tools and Ecosystem are summarized"
   ]
  },
  {
   "cell_type": "markdown",
   "id": "7cd89100-458c-4190-86fa-239c923deee1",
   "metadata": {
    "tags": []
   },
   "source": [
    "**Objectives:**\n",
    "- Popular languages that Data Scientists\n",
    "- Commonly used libraries used by Data Scientists\n",
    "- Arithmetic expressions in Python"
   ]
  },
  {
   "cell_type": "markdown",
   "id": "55820c9f-6965-4f52-82a8-2e03a53c0d1e",
   "metadata": {
    "tags": []
   },
   "source": [
    "Some of the popular languages that Data Scientists use are:\n",
    "1. Python\n",
    "2. R\n",
    "3. Julia"
   ]
  },
  {
   "cell_type": "markdown",
   "id": "d26c788a-e22d-40b1-b3aa-a803787132b5",
   "metadata": {
    "tags": []
   },
   "source": [
    "Some of the commonly used libraries used by Data Scientists include:\n",
    "1. Pandas\n",
    "2. Numpy\n",
    "3. SkyLearn"
   ]
  },
  {
   "cell_type": "markdown",
   "id": "aefcf600-dad2-4e42-9038-21912aaa9f57",
   "metadata": {},
   "source": [
    "|Data Science Tools|\n",
    "|------------------|\n",
    "|Jupyter lab|\n",
    "|Spyder|\n",
    "|VS Code|"
   ]
  },
  {
   "cell_type": "markdown",
   "id": "ac55d851-8860-413e-8168-33b8c7084e2a",
   "metadata": {
    "tags": []
   },
   "source": [
    "### Below are a few examples of evaluating arithmetic expressions in Python.\n",
    "```python\n",
    "c = a + b\n",
    "d = e - f\n",
    "g = h * i\n",
    "```"
   ]
  },
  {
   "cell_type": "code",
   "execution_count": 26,
   "id": "0c71a089-d5a7-426d-9241-db619b7f636f",
   "metadata": {
    "tags": []
   },
   "outputs": [
    {
     "data": {
      "text/plain": [
       "17"
      ]
     },
     "execution_count": 26,
     "metadata": {},
     "output_type": "execute_result"
    }
   ],
   "source": [
    "# This a simple arithmetic expression to mutiply then add integers.\n",
    "(3*4)+5"
   ]
  },
  {
   "cell_type": "code",
   "execution_count": 46,
   "id": "dc840cc8-57f3-496d-b8c1-c195ddd89764",
   "metadata": {
    "tags": []
   },
   "outputs": [
    {
     "name": "stdout",
     "output_type": "stream",
     "text": [
      "200 Minutes equals 3.33 Hours\n"
     ]
    }
   ],
   "source": [
    "# This will convert 200 minutes to hours by diving by 60.\n",
    "Minutes = 200\n",
    "Hours = Minutes/60\n",
    "print(f'{Minutes} Minutes equals {Hours:.2f} Hours')"
   ]
  },
  {
   "cell_type": "markdown",
   "id": "e7a28c90-01da-469a-9f4d-34ace44d634d",
   "metadata": {
    "tags": []
   },
   "source": [
    "## Author\n",
    "Francisco Jiménez"
   ]
  }
 ],
 "metadata": {
  "kernelspec": {
   "display_name": "Python 3 (ipykernel)",
   "language": "python",
   "name": "python3"
  },
  "language_info": {
   "codemirror_mode": {
    "name": "ipython",
    "version": 3
   },
   "file_extension": ".py",
   "mimetype": "text/x-python",
   "name": "python",
   "nbconvert_exporter": "python",
   "pygments_lexer": "ipython3",
   "version": "3.11.5"
  }
 },
 "nbformat": 4,
 "nbformat_minor": 5
}
